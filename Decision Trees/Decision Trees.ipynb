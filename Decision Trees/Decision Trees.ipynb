{
  "cells": [
    {
      "cell_type": "markdown",
      "metadata": {
        "id": "RqQrERBNfzHq"
      },
      "source": [
        "# Decision Trees\n",
        "\n",
        "1. Practice OOP in python.\n",
        "2. Implement two impurity measures: Gini and Entropy.\n",
        "3. Construct a decision tree algorithm.\n",
        "4. Prune the tree to achieve better results.\n",
        "5. Visualize your results."
      ]
    },
    {
      "cell_type": "code",
      "execution_count": 1,
      "metadata": {
        "id": "LYIIf6b4fzHt"
      },
      "outputs": [],
      "source": [
        "import numpy as np\n",
        "import pandas as pd\n",
        "import matplotlib.pyplot as plt\n",
        "\n",
        "# make matplotlib figures appear inline in the notebook\n",
        "%matplotlib inline\n",
        "plt.rcParams['figure.figsize'] = (10.0, 8.0) # set default size of plots\n",
        "plt.rcParams['image.interpolation'] = 'nearest'\n",
        "plt.rcParams['image.cmap'] = 'gray'\n",
        "\n",
        "# Ignore warnings\n",
        "import warnings\n",
        "warnings.filterwarnings('ignore')"
      ]
    },
    {
      "cell_type": "code",
      "execution_count": 2,
      "metadata": {
        "id": "YdxCTeJYfzHu"
      },
      "outputs": [],
      "source": [
        "class Node(object):\n",
        "    def __init__(self, data):\n",
        "        self.data = data\n",
        "        self.children = []\n",
        "\n",
        "    def add_child(self, node):\n",
        "        self.children.append(node)"
      ]
    },
    {
      "cell_type": "code",
      "execution_count": 3,
      "metadata": {
        "colab": {
          "base_uri": "https://localhost:8080/"
        },
        "id": "8X1KTuFSfzHu",
        "outputId": "b5237bd8-3fdd-41af-e0ad-64f49658ff30"
      },
      "outputs": [
        {
          "data": {
            "text/plain": [
              "[<__main__.Node at 0x7fca8b02c590>, <__main__.Node at 0x7fca8b02c610>]"
            ]
          },
          "execution_count": 3,
          "metadata": {
            "tags": []
          },
          "output_type": "execute_result"
        }
      ],
      "source": [
        "n = Node(5)\n",
        "p = Node(6)\n",
        "q = Node(7)\n",
        "n.add_child(p)\n",
        "n.add_child(q)\n",
        "n.children\n"
      ]
    },
    {
      "cell_type": "markdown",
      "metadata": {
        "id": "esH3gGW0fzHu"
      },
      "source": [
        "## Data preprocessing\n",
        "\n",
        "For the following exercise, we will use a dataset containing mushroom data `agaricus-lepiota.csv`. \n",
        "\n",
        "This data set includes descriptions of hypothetical samples corresponding to 23 species of gilled mushrooms in the Agaricus and Lepiota Family. Each species is identified as definitely edible, definitely poisonous, or of unknown edibility and not recommended. This latter class was combined with the poisonous\n",
        "one (=there are only two classes **edible** and **poisonous**). \n",
        "    \n",
        "The dataset contains 8124 observations with 22 features:\n",
        "1. cap-shape: bell=b,conical=c,convex=x,flat=f,knobbed=k,sunken=s\n",
        "2. cap-surface: fibrous=f,grooves=g,scaly=y,smooth=s\n",
        "3. cap-color: brown=n,buff=b,cinnamon=c,gray=g,green=r,pink=p,purple=u,red=e,white=w,yellow=y\n",
        "4. bruises: bruises=t,no=f\n",
        "5. odor: almond=a,anise=l,creosote=c,fishy=y,foul=f, musty=m,none=n,pungent=p,spicy=s\n",
        "6. gill-attachment: attached=a,descending=d,free=f,notched=n\n",
        "7. gill-spacing: close=c,crowded=w,distant=d\n",
        "8. gill-size: broad=b,narrow=n\n",
        "9. gill-color: black=k,brown=n,buff=b,chocolate=h,gray=g,green=r,orange=o,pink=p,purple=u,red=e,white=w,yellow=y\n",
        "10. stalk-shape: enlarging=e,tapering=t\n",
        "11. stalk-root: bulbous=b,club=c,cup=u,equal=e,rhizomorphs=z,rooted=r\n",
        "12. stalk-surface-above-ring: fibrous=f,scaly=y,silky=k,smooth=s\n",
        "13. stalk-surface-below-ring: fibrous=f,scaly=y,silky=k,smooth=s\n",
        "14. stalk-color-above-ring: brown=n,buff=b,cinnamon=c,gray=g,orange=o,pink=p,red=e,white=w,yellow=y\n",
        "15. stalk-color-below-ring: brown=n,buff=b,cinnamon=c,gray=g,orange=o,pink=p,red=e,white=w,yellow=y\n",
        "16. veil-type: partial=p,universal=u\n",
        "17. veil-color: brown=n,orange=o,white=w,yellow=y\n",
        "18. ring-number: none=n,one=o,two=t\n",
        "19. ring-type: cobwebby=c,evanescent=e,flaring=f,large=l,none=n,pendant=p,sheathing=s,zone=z\n",
        "20. spore-print-color: black=k,brown=n,buff=b,chocolate=h,green=r,orange=o,purple=u,white=w,yellow=y\n",
        "21. population: abundant=a,clustered=c,numerous=n,scattered=s,several=v,solitary=y\n",
        "22. habitat: grasses=g,leaves=l,meadows=m,paths=p,urban=u,waste=w,woods=d\n",
        "\n",
        "First, we will read and explore the data using pandas and the `.read_csv` method. Pandas is an open source library providing high-performance, easy-to-use data structures and data analysis tools for the Python programming language."
      ]
    },
    {
      "cell_type": "code",
      "execution_count": 4,
      "metadata": {
        "id": "LEpPhsBMfzHv"
      },
      "outputs": [],
      "source": [
        "# load dataset\n",
        "data = pd.read_csv('agaricus-lepiota.csv')\n"
      ]
    },
    {
      "cell_type": "markdown",
      "metadata": {
        "id": "jzFime3JfzHv"
      },
      "source": [
        "One of the advantages of the Decision Tree algorithm is that almost no preprocessing is required. However, finding missing values is always required."
      ]
    },
    {
      "cell_type": "code",
      "execution_count": 5,
      "metadata": {
        "id": "5MwCyM0ufzHw"
      },
      "outputs": [],
      "source": [
        "#############################################################################\n",
        "# TODO: Find the columns with missing values and remove them from the data.#\n",
        "#############################################################################\n",
        "data.dropna(axis=1,inplace=True)\n",
        "#############################################################################\n",
        "#                             END OF YOUR CODE                              #\n",
        "#############################################################################"
      ]
    },
    {
      "cell_type": "markdown",
      "metadata": {
        "id": "oos5O4iufzHw"
      },
      "source": [
        "We will split the dataset to `Training` and `Testing` datasets."
      ]
    },
    {
      "cell_type": "code",
      "execution_count": 6,
      "metadata": {
        "colab": {
          "base_uri": "https://localhost:8080/"
        },
        "id": "U5KVLUUwfzHw",
        "outputId": "56f2d922-3461-49c8-c452-6358ed0ae6bd"
      },
      "outputs": [
        {
          "name": "stdout",
          "output_type": "stream",
          "text": [
            "Training dataset shape:  (6093, 22)\n",
            "Testing dataset shape:  (2031, 22)\n"
          ]
        }
      ],
      "source": [
        "from sklearn.model_selection import train_test_split\n",
        "# Making sure the last column will hold the labels\n",
        "X, y = data.drop('class', axis=1), data['class']\n",
        "X = np.column_stack([X,y])\n",
        "# split dataset using random_state to get the same split each time\n",
        "X_train, X_test = train_test_split(X, random_state=99)\n",
        "\n",
        "print(\"Training dataset shape: \", X_train.shape)\n",
        "print(\"Testing dataset shape: \", X_test.shape)"
      ]
    },
    {
      "cell_type": "code",
      "execution_count": 7,
      "metadata": {
        "colab": {
          "base_uri": "https://localhost:8080/"
        },
        "id": "Szxwm1uqfzHx",
        "outputId": "a2362688-9d18-4da4-fc94-21fc6c362564"
      },
      "outputs": [
        {
          "data": {
            "text/plain": [
              "(8124,)"
            ]
          },
          "execution_count": 7,
          "metadata": {
            "tags": []
          },
          "output_type": "execute_result"
        }
      ],
      "source": [
        "y.shape"
      ]
    },
    {
      "cell_type": "markdown",
      "metadata": {
        "id": "UMbEYkO1fzHx"
      },
      "source": [
        "## Impurity Measures\n",
        "\n",
        "Impurity is a measure of how often a randomly chosen element from the set would be incorrectly labeled if it was randomly labeled according to the distribution of labels in the subset. Implement the functions `calc_gini` and `calc_entropy`."
      ]
    },
    {
      "cell_type": "code",
      "execution_count": 8,
      "metadata": {
        "id": "g1b-p8tvfzHx"
      },
      "outputs": [],
      "source": [
        "def calc_gini(data):\n",
        "    \"\"\"\n",
        "    Calculate gini impurity measure of a dataset.\n",
        " \n",
        "    Input:\n",
        "    - data: any dataset where the last column holds the labels.\n",
        " \n",
        "    Returns the gini impurity.    \n",
        "    \"\"\"\n",
        "    gini = 0.0\n",
        "    ###########################################################################\n",
        "    # TODO: Implement the function.                                           #\n",
        "    ###########################################################################\n",
        "    last_col = data[:,-1]\n",
        "    col_freq = pd.Series(last_col).value_counts(normalize=True)\n",
        "    for value in col_freq.values:\n",
        "          gini += value ** 2\n",
        "    gini = 1-gini\n",
        "    ###########################################################################\n",
        "    #                             END OF YOUR CODE                            #\n",
        "    ###########################################################################\n",
        "    return gini"
      ]
    },
    {
      "cell_type": "code",
      "execution_count": 9,
      "metadata": {
        "id": "cRPPySRGfzHx"
      },
      "outputs": [],
      "source": [
        "def calc_entropy(data):\n",
        "    \"\"\"\n",
        "    Calculate the entropy of a dataset.\n",
        "\n",
        "    Input:\n",
        "    - data: any dataset where the last column holds the labels.\n",
        "\n",
        "    Returns the entropy of the dataset.    \n",
        "    \"\"\"\n",
        "    entropy = 0.0\n",
        "    ###########################################################################\n",
        "    # TODO: Implement the function.                                           #\n",
        "    ###########################################################################\n",
        "    last_col = data[:,-1]\n",
        "    col_freq = pd.Series(last_col).value_counts(normalize=True)\n",
        "    for value in col_freq.values:\n",
        "          entropy += value  * np.log2(value)\n",
        "    entropy = -entropy\n",
        "    ###########################################################################\n",
        "    #                             END OF YOUR CODE                            #\n",
        "    ###########################################################################\n",
        "    return entropy"
      ]
    },
    {
      "cell_type": "code",
      "execution_count": 10,
      "metadata": {
        "colab": {
          "base_uri": "https://localhost:8080/"
        },
        "id": "IsXNf71qfzHy",
        "outputId": "f9614c30-718f-4807-905d-6bcae9da5672",
        "scrolled": true
      },
      "outputs": [
        {
          "data": {
            "text/plain": [
              "(0.4995636322379775, 0.9993703627906085)"
            ]
          },
          "execution_count": 10,
          "metadata": {
            "tags": []
          },
          "output_type": "execute_result"
        }
      ],
      "source": [
        "##### Your Tests Here #####\n",
        "calc_gini(X), calc_entropy(X)"
      ]
    },
    {
      "cell_type": "markdown",
      "metadata": {
        "id": "v3sLtCuqfzHy"
      },
      "source": [
        "## Goodness of Split\n",
        "\n",
        "Given a feature the Goodnees of Split measures the reduction in the impurity if we split the data according to the feature.\n",
        "$$\n",
        "\\Delta\\varphi(S, A) = \\varphi(S) - \\sum_{v\\in Values(A)} \\frac{|S_v|}{|S|}\\varphi(S_v)\n",
        "$$\n",
        "\n",
        "In our implementation the goodness_of_split function will return either the Goodness of Split or the Gain Ratio as learned in class. You'll control the return value with the `gain_ratio` parameter. If this \n",
        "\n",
        "\n",
        "parameter will set to False (the default value) it will return the regular Goodness of Split. If it will set to True it will return the Gain Ratio.\n",
        "$$\n",
        "GainRatio(S,A)=\\frac{InformationGain(S,A)}{SplitInformation(S,A)}\n",
        "$$\n",
        "Where:\n",
        "$$\n",
        "InformationGain(S,A)=Goodness\\ of\\ Split\\ calculated\\ with\\ Entropy\\ as\\ the\\ Impurity\\ function \\\\\n",
        "SplitInformation(S,A)=- \\sum_{a\\in A} \\frac{|S_a|}{|S|}\\log\\frac{|S_a|}{|S|}\n",
        "$$\n",
        "NOTE: you can add more parameters to the function and you can also add more returning variables (The given parameters and the given returning variable should not be touch)."
      ]
    },
    {
      "cell_type": "code",
      "execution_count": 11,
      "metadata": {
        "id": "2qR1tREyfzHy"
      },
      "outputs": [],
      "source": [
        "def goodness_of_split(data, feature, impurity_func, gain_ratio=False):\n",
        "    \"\"\"\n",
        "    Calculate the goodness of split of a dataset given a feature and impurity function.\n",
        "\n",
        "    Input:\n",
        "    - data: any dataset where the last column holds the labels.\n",
        "    - feature: the feature index.\n",
        "    - impurity func: a function that calculates the impurity.\n",
        "    - gain_ratio: goodness of split or gain ratio flag.\n",
        "\n",
        "    Returns the goodness of split (or the Gain Ration).  \n",
        "    \"\"\"\n",
        "    ###########################################################################\n",
        "    # TODO: Implement the function.                                           #\n",
        "    ###########################################################################\n",
        "    goodness = 0\n",
        "    values, counts = np.unique(data[:,feature], return_counts=True)\n",
        "    size = len(data[:,feature])\n",
        "    #gain ratio\n",
        "    if gain_ratio:\n",
        "       info_gain = goodness_of_split(data, feature, impurity_func, False)\n",
        "       split_info = -1 * sum(counts * np.log2(counts/size)) / size\n",
        "       goodness = info_gain / split_info\n",
        "\n",
        "    #goodness of split\n",
        "    else:\n",
        "      for index, val in enumerate (values):\n",
        "        proportional_size = counts[index]/size\n",
        "        filtered_inst = data[data[:,feature]==val]\n",
        "        goodness -= proportional_size * impurity_func(filtered_inst)\n",
        "      goodness += impurity_func(data)\n",
        "    ###########################################################################\n",
        "    #                             END OF YOUR CODE                            #\n",
        "    ###########################################################################\n",
        "    return goodness    "
      ]
    },
    {
      "cell_type": "code",
      "execution_count": 12,
      "metadata": {
        "colab": {
          "base_uri": "https://localhost:8080/"
        },
        "id": "WS687nLAhVMF",
        "outputId": "07652074-faa6-43f0-84af-f3100c28d65c"
      },
      "outputs": [
        {
          "name": "stdout",
          "output_type": "stream",
          "text": [
            "0.010883560598699616\n",
            "0.016696903686886814\n",
            "0.027475652034306686\n",
            "0.017909483669059645\n"
          ]
        }
      ],
      "source": [
        "print(goodness_of_split(data=X_train,feature=0,impurity_func=calc_gini,gain_ratio=True))\n",
        "print(goodness_of_split(data=X_train,feature=0,impurity_func=calc_entropy,gain_ratio=True))\n",
        "print(goodness_of_split(data=X_train,feature=0,impurity_func=calc_entropy,gain_ratio=False))\n",
        "print(goodness_of_split(data=X_train,feature=0,impurity_func=calc_gini,gain_ratio=False))"
      ]
    },
    {
      "cell_type": "markdown",
      "metadata": {
        "id": "9kp6hHmWfzHy"
      },
      "source": [
        "## Building a Decision Tree\n",
        "\n",
        "Use a Python class to construct the decision tree. Your class should support the following functionality:\n",
        "\n",
        "1. Initiating a node for a decision tree. You will need to use several class methods and class attributes and you are free to use them as you see fit. We recommend that every node will hold the feature and value used for the split and its children.\n",
        "2. Your code should support both Gini and Entropy as impurity measures. \n",
        "3. The provided data includes categorical data. In this exercise, when splitting a node create the number of children needed according to the attribute unique values.\n",
        "\n",
        "Complete the class `DecisionNode`. The structure of this class is entirely up to you. \n",
        "\n",
        "Complete the function `build_tree`. This function should get the training dataset and the impurity as inputs, initiate a root for the decision tree and construct the tree according to the procedure you learned in class."
      ]
    },
    {
      "cell_type": "code",
      "execution_count": 13,
      "metadata": {
        "id": "OGIH3-IH5k21"
      },
      "outputs": [],
      "source": [
        "def chi_square_calculation(data, feature):\n",
        "    chi_square = 0 \n",
        "    labels, counts = np.unique(data[:,-1], return_counts=True)\n",
        "    feature_values, feature_values_counts = np.unique(data[:, feature], return_counts=True)\n",
        "    p_y0 = counts[0] / len(data)\n",
        "    p_y1 = counts[1] / len(data)\n",
        "    \n",
        "    for value in range(len(feature_values)):\n",
        "        df = feature_values_counts[value]\n",
        "        e_0 = df * p_y0\n",
        "        e_1 = df * p_y1   \n",
        "        pf = len(np.where((data[:,feature] ==  feature_values[value]) & (data[:,-1] == labels[0]))[0])\n",
        "        nf = len(np.where((data[:,feature] ==  feature_values[value]) & (data[:,-1] == labels[1]))[0])\n",
        "        \n",
        "        chi_square += pow((pf - e_0),2)/e_0 + pow((nf - e_1),2)/e_1\n",
        "        \n",
        "    return chi_square"
      ]
    },
    {
      "cell_type": "code",
      "execution_count": 14,
      "metadata": {
        "id": "Ow_FVj5RfzHz"
      },
      "outputs": [],
      "source": [
        "class DecisionNode:\n",
        "    \"\"\"\n",
        "    This class will hold everything you require to construct a decision tree.\n",
        "    The structure of this class is up to you. However, you need to support basic \n",
        "    functionality as described above. It is highly recommended that you \n",
        "    first read and understand the entire exercise before diving into this class.\n",
        "    \"\"\"\n",
        "    def __init__(self, feature,predict, children_opt,edi_pois):\n",
        "        self.feature = feature # column index of criteria being tested\n",
        "        #prediction by majority class\n",
        "        self.predict = predict\n",
        "        #children dictionary- key= branch value, value = child node\n",
        "        self.children = {}\n",
        "        self.children_opt = children_opt\n",
        "        self.class_values,self.class_counts = edi_pois\n",
        "        \n",
        "    def count_nodes_of(self):\n",
        "        counter = 0\n",
        "        for child in self.children.values():\n",
        "          counter += child.count_nodes_of() + 1 \n",
        "        return counter\n",
        "\n"
      ]
    },
    {
      "cell_type": "code",
      "execution_count": 15,
      "metadata": {
        "id": "gWDgELuifzHz"
      },
      "outputs": [],
      "source": [
        "def build_tree(data, impurity, gain_ratio=False, chi=1, max_depth=1000):\n",
        "    \"\"\"\n",
        "    Build a tree using the given impurity measure and training dataset. \n",
        "    You are required to fully grow the tree until all leaves are pure. \n",
        "\n",
        "    Input:\n",
        "    - data: the training dataset.\n",
        "    - impurity: the chosen impurity measure. Notice that you can send a function\n",
        "                as an argument in python.\n",
        "    - gain_ratio: goodness of split or gain ratio flag\n",
        "    - chi: chi square p-value cut off (1 means no pruning)\n",
        "    - max_depth: the allowable depth of the tree\n",
        "\n",
        "    Output: the root node of the tree.\n",
        "    \"\"\"\n",
        "    current_depth=0\n",
        "    root = recursive_build_tree(data, impurity, gain_ratio, chi, current_depth, max_depth,[])\n",
        "    ###########################################################################\n",
        "    # TODO: Implement the function.                                           #\n",
        "    ###########################################################################\n",
        "\n",
        "    ###########################################################################\n",
        "    #                             END OF YOUR CODE                            #\n",
        "    ###########################################################################\n",
        "    return root"
      ]
    },
    {
      "cell_type": "code",
      "execution_count": 16,
      "metadata": {
        "id": "NBk7kpnvG5dj"
      },
      "outputs": [],
      "source": [
        "def recursive_build_tree(data, impurity, gain_ratio, chi, current_depth, max_depth,used_attr):\n",
        "    #initial values\n",
        "    best_feat_index = -1\n",
        "    best_feat_goodness = np.NINF\n",
        "    edi_pois= diff_classes,counts = np.unique(data[:,-1],return_counts=True)\n",
        "    pred = diff_classes[counts.argmax()]\n",
        "    # base case- Purity reached \\ reached max depth\n",
        "    if len(np.unique(data[:,-1])) == 1 or current_depth == max_depth: \n",
        "      return DecisionNode(None,data[0,-1],None,edi_pois)\n",
        "\n",
        "    #finding the greatest gain possible\n",
        "    for feat in range(len(data[0])-1):\n",
        "      #if already used certain attribute, move to next iteration\n",
        "      if feat in used_attr:\n",
        "        continue\n",
        "      can_goodness = goodness_of_split(data,feat,impurity, gain_ratio)\n",
        "\n",
        "      #if found new best candidate\n",
        "      if can_goodness > best_feat_goodness:\n",
        "        best_feat_index = feat\n",
        "        best_feat_goodness = can_goodness\n",
        "\n",
        "    #predict according to majority class\n",
        "    possible_values = np.unique(data[:,best_feat_index]) \n",
        "    if  chi != 1:\n",
        "        chi_square = chi_square_calculation(data, best_feat_index)\n",
        "        if chi_table[len(possible_values) - 1][chi] > chi_square:\n",
        "            return DecisionNode(None, pred, None,edi_pois)\n",
        "\n",
        "    #building the tree recursively \n",
        "    root = DecisionNode(best_feat_index,pred,possible_values,edi_pois)\n",
        "    for child_val in possible_values:\n",
        "      #filter the instances according to used features so far\n",
        "      filtered_inst = data[data[:, best_feat_index] == child_val]\n",
        "      #updating current depth each recursive build\n",
        "      new_node = recursive_build_tree(filtered_inst, impurity, gain_ratio, chi,current_depth+1, max_depth ,used_attr+[best_feat_index])\n",
        "      if new_node is not None:\n",
        "        #children --> dictionary with branch value as key\n",
        "        #             and child node as value\n",
        "        root.children[child_val] = new_node\n",
        "    return root"
      ]
    },
    {
      "cell_type": "code",
      "execution_count": 17,
      "metadata": {
        "id": "O4QlpOtyfzHz"
      },
      "outputs": [],
      "source": [
        "# python supports passing a function as an argument to another function.\n",
        "tree_gini = build_tree(data=X_train, impurity=calc_gini) # gini and goodness of split\n",
        "tree_entropy = build_tree(data=X_train, impurity=calc_entropy) # entropy and goodness of split\n",
        "tree_entropy_gain_ratio = build_tree(data=X_train, impurity=calc_entropy, gain_ratio=True) # entropy and gain ratio"
      ]
    },
    {
      "cell_type": "markdown",
      "metadata": {
        "id": "os47mLItfzHz"
      },
      "source": [
        "## Tree evaluation\n",
        "\n",
        "Complete the functions `predict` and `calc_accuracy`."
      ]
    },
    {
      "cell_type": "code",
      "execution_count": 18,
      "metadata": {
        "id": "AUJmN_9afzH0"
      },
      "outputs": [],
      "source": [
        "def predict(node, instance):\n",
        "    \"\"\"\n",
        "    Predict a given instance using the decision tree\n",
        " \n",
        "    Input:\n",
        "    - root: the root of the decision tree.\n",
        "    - instance: an row vector from the dataset. Note that the last element \n",
        "                of this vector is the label of the instance.\n",
        " \n",
        "    Output: the prediction of the instance.\n",
        "    \"\"\"\n",
        "    pred = None\n",
        "    ###########################################################################\n",
        "    # TODO: Implement the function. #\n",
        "    ###########################################################################\n",
        "    if node.feature is None:\n",
        "      pred = node.predict\n",
        "      return pred\n",
        "    while True:\n",
        "      new_node = node.children.get(instance[node.feature])\n",
        "      if not new_node:\n",
        "        break\n",
        "      node = new_node\n",
        "      if node.feature is None:\n",
        "        break\n",
        "    pred = node.predict\n",
        "    return pred \n",
        "    ###########################################################################\n",
        "    # END OF YOUR CODE #\n",
        "    ###########################################################################\n",
        "\n",
        "\n"
      ]
    },
    {
      "cell_type": "code",
      "execution_count": 19,
      "metadata": {
        "id": "iMzDk228fzH0"
      },
      "outputs": [],
      "source": [
        "def calc_accuracy(node, dataset):\n",
        "    \"\"\"\n",
        "    Predict a given dataset using the decision tree\n",
        " \n",
        "    Input:\n",
        "    - node: a node in the decision tree.\n",
        "    - dataset: the dataset on which the accuracy is evaluated\n",
        " \n",
        "    Output: the accuracy of the decision tree on the given dataset (%).\n",
        "    \"\"\"\n",
        "    accuracy = 0\n",
        "    ###########################################################################\n",
        "    # TODO: Implement the function.                                           #\n",
        "    ###########################################################################\n",
        "    for instance in dataset:\n",
        "      prediction = predict(node,instance)\n",
        "      if prediction == instance[-1]:\n",
        "        accuracy += 1\n",
        "   \n",
        "    return  (accuracy / np.shape(dataset)[0]) * 100\n",
        "    ###########################################################################\n",
        "    #                             END OF YOUR CODE                            #\n",
        "    ###########################################################################"
      ]
    },
    {
      "cell_type": "markdown",
      "metadata": {
        "id": "21Crn28xfzH0"
      },
      "source": [
        "After building the three trees using the training set, you should calculate the accuracy on the test set. For each tree print the training and test accuracy. Select the tree that gave you the best test accuracy. For the rest of the exercise, use that tree (when you asked to build another tree use the same impurity function and same gain_ratio flag). "
      ]
    },
    {
      "cell_type": "code",
      "execution_count": 20,
      "metadata": {
        "colab": {
          "base_uri": "https://localhost:8080/"
        },
        "id": "FO3dh29S_Jcf",
        "outputId": "cef377e4-acc5-4885-861d-0a59a4556285"
      },
      "outputs": [
        {
          "name": "stdout",
          "output_type": "stream",
          "text": [
            "Tree Gini (X_train): 100.0%\n",
            "Tree Gini (X_test): 77.30182176267849%\n",
            "Tree Entropy (X_train): 100.0%\n",
            "Tree Entropy (X_test): 77.15411127523387%\n",
            "Tree Entropy Gain Ratio (X_train): 100.0%\n",
            "Tree Entropy Gain Ratio (X_test): 78.53274249138356%\n"
          ]
        }
      ],
      "source": [
        "print(f'Tree Gini (X_train): {calc_accuracy(tree_gini,X_train)}%') \n",
        "print(f'Tree Gini (X_test): {calc_accuracy(tree_gini,X_test)}%') \n",
        "print(f'Tree Entropy (X_train): {calc_accuracy(tree_entropy,X_train)}%') \n",
        "print(f'Tree Entropy (X_test): {calc_accuracy(tree_entropy,X_test)}%') \n",
        "print(f'Tree Entropy Gain Ratio (X_train): {calc_accuracy(tree_entropy_gain_ratio,X_train)}%') \n",
        "print(f'Tree Entropy Gain Ratio (X_test): {calc_accuracy(tree_entropy_gain_ratio,X_test)}%') "
      ]
    },
    {
      "cell_type": "code",
      "execution_count": 21,
      "metadata": {
        "id": "9btjFsiufzH4"
      },
      "outputs": [],
      "source": [
        "def count_nodes(node):\n",
        "    \"\"\"\n",
        "    Count the number of node in a given tree\n",
        " \n",
        "    Input:\n",
        "    - node: a node in the decision tree.\n",
        " \n",
        "    Output: the number of node in the tree.\n",
        "    \"\"\"\n",
        "    ###########################################################################\n",
        "    # TODO: Implement the function.                                           #\n",
        "    ###########################################################################\n",
        "    return node.count_nodes_of()\n",
        "    ###########################################################################\n",
        "    #                             END OF YOUR CODE                            #\n",
        "    ###########################################################################\n",
        "    "
      ]
    },
    {
      "cell_type": "markdown",
      "metadata": {
        "id": "ZeHstuAWfzH2"
      },
      "source": [
        "## Number of Nodes\n",
        "\n",
        "Of the two trees above we will choose the one with fewer nodes. Complete the function counts_nodes and print the number of nodes in each tree."
      ]
    },
    {
      "cell_type": "markdown",
      "metadata": {
        "id": "nXVMVeeLfzH1"
      },
      "source": [
        "## Post pruning\n",
        "\n",
        "Iterate over all nodes in the tree that have at least a single child which is a leaf. For each such node, replace it with its most popular class. Calculate the accuracy on the testing dataset, pick the node that results in the highest testing accuracy and permanently change it in the tree. Repeat this process until you are left with a single node in the tree (the root). Finally, create a plot of the training and testing accuracies as a function of the number of nodes in the tree."
      ]
    },
    {
      "cell_type": "code",
      "execution_count": 22,
      "metadata": {
        "id": "guiNUyCmpDNl"
      },
      "outputs": [],
      "source": [
        "def find_parents_with_leaf(node,result):\n",
        "  #base case\n",
        "  if node is None or node.feature is None or len(node.children.values()) == 0:\n",
        "    return\n",
        "  for child in node.children.values():\n",
        "    #if the node doesn't have children,append to result list\n",
        "    if len(child.children.values()) == 0:\n",
        "      result.append(node)\n",
        "    else:\n",
        "      find_parents_with_leaf(child,result)"
      ]
    },
    {
      "cell_type": "code",
      "execution_count": 23,
      "metadata": {
        "id": "B3hMbbAn6nDz"
      },
      "outputs": [],
      "source": [
        "def accuarcy_without_node(can,dataset,tree_root):\n",
        "  #backup feature and children data\n",
        "  back_feature = can.feature\n",
        "  back_children = can.children\n",
        "  #disassemble the candidate\n",
        "  can.feature = None\n",
        "  can.children = {}\n",
        "\n",
        "  #calculate accuarcy without candidate\n",
        "  result = calc_accuracy(tree_root,dataset)\n",
        "\n",
        "  #Reassamble the candidate\n",
        "  can.feature = back_feature\n",
        "  can.children = back_children\n",
        "  return result"
      ]
    },
    {
      "cell_type": "code",
      "execution_count": 24,
      "metadata": {
        "id": "-2vHageufzH1"
      },
      "outputs": [],
      "source": [
        "def post_pruning(root):\n",
        "  train_acc_data= []\n",
        "  test_acc_data = []\n",
        "  nodes_num_track = []\n",
        "\n",
        "  total_nodes = root.count_nodes_of()\n",
        "  \n",
        "  while total_nodes > 1:\n",
        "    train_acc_data.append(calc_accuracy(root,X_train))\n",
        "    test_acc_data.append(calc_accuracy(root,X_test))\n",
        "    total_nodes =  root.count_nodes_of()\n",
        "    nodes_num_track.append(total_nodes)\n",
        "    leaves_parents = []\n",
        "    find_parents_with_leaf(root,leaves_parents)\n",
        "    if len(leaves_parents) == 1:\n",
        "      break\n",
        "    best_train_acc = -1\n",
        "    best_test_acc = -1\n",
        "    for can in leaves_parents:\n",
        "        test_acc = accuarcy_without_node(can,X_test,root)\n",
        "        if test_acc > best_test_acc:\n",
        "          best_test_acc = test_acc\n",
        "          best_prune_opt = can\n",
        "\n",
        "    #after checking all the candidates, prune the best option\n",
        "    best_train_acc = accuarcy_without_node(best_prune_opt,X_train,root)\n",
        "    best_prune_opt.feature =None\n",
        "    best_prune_opt.children = {}\n",
        "\n",
        "  return train_acc_data,test_acc_data,nodes_num_track\n"
      ]
    },
    {
      "cell_type": "code",
      "execution_count": 25,
      "metadata": {
        "colab": {
          "base_uri": "https://localhost:8080/",
          "height": 279
        },
        "id": "Khr1Azk2GA_F",
        "outputId": "81b7a03e-4fa7-4d4f-d8ce-f42e3e34e564"
      },
      "outputs": [
        {
          "data": {
            "image/png": "[encoded data removed]",
            "text/plain": [
              "<Figure size 432x288 with 1 Axes>"
            ]
          },
          "metadata": {
            "needs_background": "light",
            "tags": []
          },
          "output_type": "display_data"
        }
      ],
      "source": [
        "train_acc_track, test_acc_track, nodes_num_track = post_pruning(tree_entropy_gain_ratio)\n",
        "\n",
        "plt.plot(nodes_num_track,train_acc_track, label=\"Train Accuracy\")\n",
        "plt.plot(nodes_num_track, test_acc_track, label=\"Test Accuracy\")\n",
        "\n",
        "plt.xlabel('Number Of Nodes')\n",
        "plt.ylabel('Accuracy')\n",
        "\n",
        "plt.legend()\n",
        "plt.show()"
      ]
    },
    {
      "cell_type": "markdown",
      "metadata": {
        "id": "meorJHgZfzH1"
      },
      "source": [
        "## Chi square pre-pruning\n",
        "\n",
        "Consider the following p-value cut-off values: [1 (no pruning), 0.5, 0.25, 0.1, 0.05, 0.0001 (max pruning)]. For each value, construct a tree and prune it according to the cut-off value. Next, calculate the training and testing accuracy. On a single plot, draw the training and testing accuracy as a function of the tuple (p-value, tree depth). Mark the best result on the graph with red circle."
      ]
    },
    {
      "cell_type": "code",
      "execution_count": 26,
      "metadata": {
        "id": "sYYj15LZfzH1"
      },
      "outputs": [],
      "source": [
        "### Chi square table values ###\n",
        "# The first key is the degree of freedom \n",
        "# The second key is the p-value cut-off\n",
        "# The values are the chi-statistic that you need to use in the pruning\n",
        "chi_table = {1: {0.5 : 0.45,\n",
        "                 0.25 : 1.32,\n",
        "                 0.1 : 2.71,\n",
        "                 0.05 : 3.84,\n",
        "                 0.0001 : 100000},\n",
        "             2: {0.5 : 1.39,\n",
        "                 0.25 : 2.77,\n",
        "                 0.1 : 4.60,\n",
        "                 0.05 : 5.99,\n",
        "                 0.0001 : 100000},\n",
        "             3: {0.5 : 2.37,\n",
        "                 0.25 : 4.11,\n",
        "                 0.1 : 6.25,\n",
        "                 0.05 : 7.82,\n",
        "                 0.0001 : 100000},\n",
        "             4: {0.5 : 3.36,\n",
        "                 0.25 : 5.38,\n",
        "                 0.1 : 7.78,\n",
        "                 0.05 : 9.49,\n",
        "                 0.0001 : 100000},\n",
        "             5: {0.5 : 4.35,\n",
        "                 0.25 : 6.63,\n",
        "                 0.1 : 9.24,\n",
        "                 0.05 : 11.07,\n",
        "                 0.0001 : 100000},\n",
        "             6: {0.5 : 5.35,\n",
        "                 0.25 : 7.84,\n",
        "                 0.1 : 10.64,\n",
        "                 0.05 : 12.59,\n",
        "                 0.0001 : 100000},\n",
        "             7: {0.5 : 6.35,\n",
        "                 0.25 : 9.04,\n",
        "                 0.1 : 12.01,\n",
        "                 0.05 : 14.07,\n",
        "                 0.0001 : 100000},\n",
        "             8: {0.5 : 7.34,\n",
        "                 0.25 : 10.22,\n",
        "                 0.1 : 13.36,\n",
        "                 0.05 : 15.51,\n",
        "                 0.0001 : 100000},\n",
        "             9: {0.5 : 8.34,\n",
        "                 0.25 : 11.39,\n",
        "                 0.1 : 14.68,\n",
        "                 0.05 : 16.92,\n",
        "                 0.0001 : 100000},\n",
        "             10: {0.5 : 9.34,\n",
        "                  0.25 : 12.55,\n",
        "                  0.1 : 15.99,\n",
        "                  0.05 : 18.31,\n",
        "                  0.0001 : 100000},\n",
        "             11: {0.5 : 10.34,\n",
        "                  0.25 : 13.7,\n",
        "                  0.1 : 17.27,\n",
        "                  0.05 : 19.68,\n",
        "                  0.0001 : 100000}}"
      ]
    },
    {
      "cell_type": "code",
      "execution_count": 31,
      "metadata": {
        "colab": {
          "base_uri": "https://localhost:8080/",
          "height": 295
        },
        "id": "TRsln-QLfzH2",
        "outputId": "4cad6498-84c9-4d29-98ef-1d5150161c16"
      },
      "outputs": [
        {
          "data": {
            "image/png": "[encoded data removed]",
            "text/plain": [
              "<Figure size 432x288 with 1 Axes>"
            ]
          },
          "metadata": {
            "needs_background": "light",
            "tags": []
          },
          "output_type": "display_data"
        }
      ],
      "source": [
        "p_values =  [1, 0.5, 0.25, 0.1, 0.05, 0.0001]\n",
        "training_accur = []\n",
        "testing_accur  = []\n",
        "all_trees= []\n",
        "best_index=0\n",
        "best_result = np.NINF\n",
        "best_chi = 0\n",
        "plt.title('Chi square pre-pruning')\n",
        "plt.xlabel('p-value, tree depth')\n",
        "plt.ylabel('Accuracy')\n",
        "\n",
        "for index,value in enumerate(p_values):\n",
        "    d_tree = build_tree(X_train, calc_entropy, gain_ratio=True, chi=value)\n",
        "    training_accur.append(calc_accuracy(d_tree,X_train))\n",
        "    test_acc =calc_accuracy(d_tree,X_test)\n",
        "    testing_accur.append(test_acc)\n",
        "    all_trees.append(d_tree)\n",
        "    if test_acc > best_result:\n",
        "      best_result = test_acc\n",
        "      best_index = index\n",
        "      best_chi = value\n",
        "\n",
        "plt.plot(p_values,training_accur,label='training accuracy')\n",
        "plt.plot(p_values,testing_accur,label='testing accuracy')\n",
        "plt.scatter(p_values, training_accur, label='training accuracy')\n",
        "plt.scatter(p_values, testing_accur, label='testing accuracy')\n",
        "\n",
        "plt.plot(p_values[best_index], best_result, color='red', marker='o')\n",
        "\n",
        "plt.legend()\n",
        "plt.show()"
      ]
    },
    {
      "cell_type": "markdown",
      "metadata": {
        "id": "kwRTlqEkfzH2"
      },
      "source": [
        "Build the best 2 trees:\n",
        "1. tree_max_depth - the best tree according to max_depth pruning\n",
        "1. tree_chi - the best tree according to chi square pruning"
      ]
    },
    {
      "cell_type": "code",
      "execution_count": 28,
      "metadata": {
        "id": "FY2Jbqv2fzH2"
      },
      "outputs": [],
      "source": [
        "tree_post_pruning = build_tree(X_train, calc_entropy, gain_ratio=True)\n",
        "_=post_pruning(tree_post_pruning)\n",
        "tree_chi = build_tree(X_train, calc_entropy, gain_ratio=True, chi = best_chi)\n"
      ]
    },
    {
      "cell_type": "markdown",
      "metadata": {
        "id": "ayxdXLeOfzH4"
      },
      "source": [
        "## Print the tree\n",
        "\n",
        "Complete the function `print_tree` and execute it on your chosen tree. Your tree should be visualized clearly. You can use the following example as a reference:\n",
        "```\n",
        "[ROOT, feature=X0],\n",
        "  [X0=a, feature=X2]\n",
        "    [X2=c, leaf]: [{1.0: 10}]\n",
        "    [X2=d, leaf]: [{0.0: 10}]\n",
        "  [X0=y, feature=X5], \n",
        "    [X5=a, leaf]: [{1.0: 5}]\n",
        "    [X5=s, leaf]: [{0.0: 10}]\n",
        "  [X0=e, leaf]: [{0.0: 25, 1.0: 50}]\n",
        "```\n",
        "In each brackets:\n",
        "* The first argument is the parent feature with the value that led to current node\n",
        "* The second argument is the selected feature of the current node\n",
        "* If the current node is a leaf, you need to print also the labels and their counts\n"
      ]
    },
    {
      "cell_type": "code",
      "execution_count": 29,
      "metadata": {
        "id": "gQVQUGvKfzH4"
      },
      "outputs": [],
      "source": [
        "def print_tree(node, depth=0, parent_feature='ROOT', feature_val='ROOT'):\n",
        "    '''\n",
        "    prints the tree according to the example above\n",
        "\n",
        "    Input:\n",
        "    - node: a node in the decision tree\n",
        "\n",
        "    This function has no return value\n",
        "    '''\n",
        "    if node is None:\n",
        "      return\n",
        "    if len(node.class_counts) == 1:\n",
        "      leaf_des = f'{node.class_values[0]}: {node.class_counts[0]}'\n",
        "    else:\n",
        "      leaf_des = f'{node.class_values[0]}: {node.class_counts[0]}, {node.class_values[1]}: {node.class_counts[1]}'\n",
        "    \n",
        "    if node.feature is None:\n",
        "        print(\" \" *2* depth,\"[X\"+str(parent_feature),\"=\",feature_val, \"leaf]: ==> [\",leaf_des,\"]\")\n",
        "        return\n",
        "    if feature_val == 'ROOT':\n",
        "      print(\" \" *2* depth,'[ROOT, feature = X'+str(node.feature),\"]\")\n",
        "      \n",
        "    else:\n",
        "      print(\" \" *2* depth,'[X'+parent_feature,\" = \",feature_val,\",\",\"feature = X\"+str(node.feature),\"]\")\n",
        "\n",
        "    for child_branch, child in node.children.items():\n",
        "        print_tree(child, depth+1, str(node.feature) ,child_branch)\n"
      ]
    },
    {
      "cell_type": "code",
      "execution_count": 30,
      "metadata": {
        "colab": {
          "base_uri": "https://localhost:8080/"
        },
        "id": "GhcDiIAMfHBH",
        "outputId": "4597f5f5-d790-4c35-da5b-99783598a5a4"
      },
      "outputs": [
        {
          "name": "stdout",
          "output_type": "stream",
          "text": [
            " [ROOT, feature = X4 ]\n",
            "   [X4 = a leaf]: ==> [ e: 273, p: 31 ]\n",
            "   [X4 = c leaf]: ==> [ e: 10, p: 137 ]\n",
            "   [X4  =  f , feature = X10 ]\n",
            "     [X10  =  f , feature = X2 ]\n",
            "       [X2 = b leaf]: ==> [ e: 8, p: 30 ]\n",
            "       [X2 = g leaf]: ==> [ e: 5, p: 26 ]\n",
            "       [X2 = w leaf]: ==> [ e: 1, p: 35 ]\n",
            "     [X10 = k leaf]: ==> [ e: 134, p: 1037 ]\n",
            "     [X10 = s leaf]: ==> [ e: 22, p: 310 ]\n",
            "   [X4  =  l , feature = X1 ]\n",
            "     [X1 = f leaf]: ==> [ e: 19, p: 1 ]\n",
            "     [X1 = s leaf]: ==> [ e: 94, p: 16 ]\n",
            "     [X1 = y leaf]: ==> [ e: 159, p: 10 ]\n",
            "   [X4 = m leaf]: ==> [ e: 2, p: 25 ]\n",
            "   [X4  =  n , feature = X7 ]\n",
            "     [X7  =  b , feature = X18 ]\n",
            "       [X18 = b leaf]: ==> [ e: 34, p: 2 ]\n",
            "       [X18 = k leaf]: ==> [ e: 843, p: 93 ]\n",
            "       [X18 = n leaf]: ==> [ e: 882, p: 105 ]\n",
            "       [X18  =  o , feature = X19 ]\n",
            "         [X19 = c leaf]: ==> [ e: 12, p: 4 ]\n",
            "         [X19 = v leaf]: ==> [ e: 16 ]\n",
            "       [X18 = r leaf]: ==> [ e: 6, p: 46 ]\n",
            "       [X18 = w leaf]: ==> [ e: 369, p: 33 ]\n",
            "       [X18 = y leaf]: ==> [ e: 35, p: 3 ]\n",
            "     [X7  =  n , feature = X3 ]\n",
            "       [X3  =  f , feature = X10 ]\n",
            "         [X10 = f leaf]: ==> [ e: 17, p: 3 ]\n",
            "         [X10 = k leaf]: ==> [ p: 25 ]\n",
            "         [X10  =  s , feature = X2 ]\n",
            "           [X2 = c leaf]: ==> [ e: 10 ]\n",
            "           [X2 = g leaf]: ==> [ e: 36, p: 1 ]\n",
            "           [X2 = n leaf]: ==> [ e: 37, p: 9 ]\n",
            "           [X2 = r leaf]: ==> [ e: 9, p: 4 ]\n",
            "           [X2 = u leaf]: ==> [ e: 14 ]\n",
            "           [X2 = w leaf]: ==> [ e: 12, p: 1 ]\n",
            "         [X10 = y leaf]: ==> [ p: 7 ]\n",
            "       [X3 = t leaf]: ==> [ p: 8 ]\n",
            "   [X4  =  p , feature = X0 ]\n",
            "     [X0  =  f , feature = X18 ]\n",
            "       [X18 = k leaf]: ==> [ e: 6, p: 43 ]\n",
            "       [X18 = n leaf]: ==> [ e: 1, p: 43 ]\n",
            "     [X0 = x leaf]: ==> [ e: 1, p: 89 ]\n",
            "   [X4  =  s , feature = X13 ]\n",
            "     [X13 = p leaf]: ==> [ e: 12, p: 190 ]\n",
            "     [X13  =  w , feature = X12 ]\n",
            "       [X12 = p leaf]: ==> [ e: 18, p: 88 ]\n",
            "       [X12  =  w , feature = X0 ]\n",
            "         [X0 = f leaf]: ==> [ p: 38 ]\n",
            "         [X0 = k leaf]: ==> [ e: 3, p: 30 ]\n",
            "         [X0 = x leaf]: ==> [ e: 5, p: 34 ]\n",
            "   [X4  =  y , feature = X1 ]\n",
            "     [X1 = s leaf]: ==> [ e: 18, p: 194 ]\n",
            "     [X1 = y leaf]: ==> [ e: 31, p: 188 ]\n"
          ]
        }
      ],
      "source": [
        "print_tree(tree_chi)"
      ]
    }
  ],
  "metadata": {
    "celltoolbar": "Create Assignment",
    "colab": {
      "collapsed_sections": [
        "RqQrERBNfzHq"
      ],
      "name": "hwa2_316440841_208603647.ipynb",
      "provenance": []
    },
    "kernelspec": {
      "display_name": "Python 3",
      "language": "python",
      "name": "python3"
    },
    "language_info": {
      "codemirror_mode": {
        "name": "ipython",
        "version": 3
      },
      "file_extension": ".py",
      "mimetype": "text/x-python",
      "name": "python",
      "nbconvert_exporter": "python",
      "pygments_lexer": "ipython3",
      "version": "3.7.3"
    }
  },
  "nbformat": 4,
  "nbformat_minor": 0
}
